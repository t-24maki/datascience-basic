{
 "cells": [
  {
   "cell_type": "code",
   "execution_count": 214,
   "metadata": {},
   "outputs": [],
   "source": [
    "import numpy as np\n",
    "import pandas as pd\n",
    "\n",
    "import statsmodels.api as sm\n",
    "import statsmodels.formula.api as smf\n",
    "\n",
    "import matplotlib.pyplot as plt\n",
    "import seaborn as sns"
   ]
  },
  {
   "cell_type": "markdown",
   "metadata": {},
   "source": [
    "# 線形回帰分析\n",
    "- 基本的な重回帰分析の説明\n",
    "- ダミー変数\n",
    "- 重回帰分析の実行\n",
    "- Formula APIを用いた重回帰分析の実行\n",
    "- モデルを使用した未来予測\n",
    "- グラフの作成\n",
    "- 特徴量エンジニアリング(対数変換、交互作用)\n",
    "- 正則化項の追加（Lasso回帰、Ridge回帰）"
   ]
  },
  {
   "cell_type": "code",
   "execution_count": 193,
   "metadata": {},
   "outputs": [],
   "source": [
    "#CSV読み込み\n",
    "df_sales = pd.read_csv(\"sales_sample.csv\")"
   ]
  },
  {
   "cell_type": "code",
   "execution_count": 198,
   "metadata": {},
   "outputs": [],
   "source": [
    "df_sales[\"雨_ダミー\"] = pd.get_dummies(df_sales[\"雨\"])"
   ]
  },
  {
   "cell_type": "code",
   "execution_count": 213,
   "metadata": {},
   "outputs": [
    {
     "data": {
      "text/html": [
       "<table class=\"simpletable\">\n",
       "<caption>OLS Regression Results</caption>\n",
       "<tr>\n",
       "  <th>Dep. Variable:</th>           <td>売上</td>        <th>  R-squared:         </th> <td>   0.840</td>\n",
       "</tr>\n",
       "<tr>\n",
       "  <th>Model:</th>                   <td>OLS</td>       <th>  Adj. R-squared:    </th> <td>   0.825</td>\n",
       "</tr>\n",
       "<tr>\n",
       "  <th>Method:</th>             <td>Least Squares</td>  <th>  F-statistic:       </th> <td>   55.83</td>\n",
       "</tr>\n",
       "<tr>\n",
       "  <th>Date:</th>             <td>Sat, 02 Jul 2022</td> <th>  Prob (F-statistic):</th> <td>8.19e-13</td>\n",
       "</tr>\n",
       "<tr>\n",
       "  <th>Time:</th>                 <td>13:07:16</td>     <th>  Log-Likelihood:    </th> <td> -225.71</td>\n",
       "</tr>\n",
       "<tr>\n",
       "  <th>No. Observations:</th>      <td>    36</td>      <th>  AIC:               </th> <td>   459.4</td>\n",
       "</tr>\n",
       "<tr>\n",
       "  <th>Df Residuals:</th>          <td>    32</td>      <th>  BIC:               </th> <td>   465.8</td>\n",
       "</tr>\n",
       "<tr>\n",
       "  <th>Df Model:</th>              <td>     3</td>      <th>                     </th>     <td> </td>   \n",
       "</tr>\n",
       "<tr>\n",
       "  <th>Covariance Type:</th>      <td>nonrobust</td>    <th>                     </th>     <td> </td>   \n",
       "</tr>\n",
       "</table>\n",
       "<table class=\"simpletable\">\n",
       "<tr>\n",
       "    <td></td>       <th>coef</th>     <th>std err</th>      <th>t</th>      <th>P>|t|</th>  <th>[0.025</th>    <th>0.975]</th>  \n",
       "</tr>\n",
       "<tr>\n",
       "  <th>const</th> <td> -340.9653</td> <td>  303.596</td> <td>   -1.123</td> <td> 0.270</td> <td> -959.371</td> <td>  277.440</td>\n",
       "</tr>\n",
       "<tr>\n",
       "  <th>気温</th>    <td>   48.2076</td> <td>    4.818</td> <td>   10.005</td> <td> 0.000</td> <td>   38.393</td> <td>   58.022</td>\n",
       "</tr>\n",
       "<tr>\n",
       "  <th>単価</th>    <td>    1.1667</td> <td>    1.314</td> <td>    0.888</td> <td> 0.381</td> <td>   -1.511</td> <td>    3.844</td>\n",
       "</tr>\n",
       "<tr>\n",
       "  <th>雨_ダミー</th> <td>  193.0358</td> <td>   77.940</td> <td>    2.477</td> <td> 0.019</td> <td>   34.277</td> <td>  351.794</td>\n",
       "</tr>\n",
       "</table>\n",
       "<table class=\"simpletable\">\n",
       "<tr>\n",
       "  <th>Omnibus:</th>       <td> 1.521</td> <th>  Durbin-Watson:     </th> <td>   1.822</td>\n",
       "</tr>\n",
       "<tr>\n",
       "  <th>Prob(Omnibus):</th> <td> 0.467</td> <th>  Jarque-Bera (JB):  </th> <td>   1.072</td>\n",
       "</tr>\n",
       "<tr>\n",
       "  <th>Skew:</th>          <td>-0.112</td> <th>  Prob(JB):          </th> <td>   0.585</td>\n",
       "</tr>\n",
       "<tr>\n",
       "  <th>Kurtosis:</th>      <td> 2.185</td> <th>  Cond. No.          </th> <td>2.82e+03</td>\n",
       "</tr>\n",
       "</table><br/><br/>Warnings:<br/>[1] Standard Errors assume that the covariance matrix of the errors is correctly specified.<br/>[2] The condition number is large, 2.82e+03. This might indicate that there are<br/>strong multicollinearity or other numerical problems."
      ],
      "text/plain": [
       "<class 'statsmodels.iolib.summary.Summary'>\n",
       "\"\"\"\n",
       "                            OLS Regression Results                            \n",
       "==============================================================================\n",
       "Dep. Variable:                     売上   R-squared:                       0.840\n",
       "Model:                            OLS   Adj. R-squared:                  0.825\n",
       "Method:                 Least Squares   F-statistic:                     55.83\n",
       "Date:                Sat, 02 Jul 2022   Prob (F-statistic):           8.19e-13\n",
       "Time:                        13:07:16   Log-Likelihood:                -225.71\n",
       "No. Observations:                  36   AIC:                             459.4\n",
       "Df Residuals:                      32   BIC:                             465.8\n",
       "Df Model:                           3                                         \n",
       "Covariance Type:            nonrobust                                         \n",
       "==============================================================================\n",
       "                 coef    std err          t      P>|t|      [0.025      0.975]\n",
       "------------------------------------------------------------------------------\n",
       "const       -340.9653    303.596     -1.123      0.270    -959.371     277.440\n",
       "気温            48.2076      4.818     10.005      0.000      38.393      58.022\n",
       "単価             1.1667      1.314      0.888      0.381      -1.511       3.844\n",
       "雨_ダミー        193.0358     77.940      2.477      0.019      34.277     351.794\n",
       "==============================================================================\n",
       "Omnibus:                        1.521   Durbin-Watson:                   1.822\n",
       "Prob(Omnibus):                  0.467   Jarque-Bera (JB):                1.072\n",
       "Skew:                          -0.112   Prob(JB):                        0.585\n",
       "Kurtosis:                       2.185   Cond. No.                     2.82e+03\n",
       "==============================================================================\n",
       "\n",
       "Warnings:\n",
       "[1] Standard Errors assume that the covariance matrix of the errors is correctly specified.\n",
       "[2] The condition number is large, 2.82e+03. This might indicate that there are\n",
       "strong multicollinearity or other numerical problems.\n",
       "\"\"\""
      ]
     },
     "execution_count": 213,
     "metadata": {},
     "output_type": "execute_result"
    }
   ],
   "source": [
    "#Formula APIを使わない方法\n",
    "\n",
    "#Xとyに分離\n",
    "X = df_sales[[\"気温\",\"単価\",\"雨_ダミー\"]]\n",
    "y = df_sales[\"売上\"]\n",
    "\n",
    "model = sm.OLS(y, sm.add_constant(X))\n",
    "result = model.fit(disp=0)\n",
    "result.summary()"
   ]
  },
  {
   "cell_type": "code",
   "execution_count": 232,
   "metadata": {},
   "outputs": [
    {
     "data": {
      "text/html": [
       "<table class=\"simpletable\">\n",
       "<caption>OLS Regression Results</caption>\n",
       "<tr>\n",
       "  <th>Dep. Variable:</th>           <td>売上</td>        <th>  R-squared:         </th> <td>   0.836</td>\n",
       "</tr>\n",
       "<tr>\n",
       "  <th>Model:</th>                   <td>OLS</td>       <th>  Adj. R-squared:    </th> <td>   0.826</td>\n",
       "</tr>\n",
       "<tr>\n",
       "  <th>Method:</th>             <td>Least Squares</td>  <th>  F-statistic:       </th> <td>   83.88</td>\n",
       "</tr>\n",
       "<tr>\n",
       "  <th>Date:</th>             <td>Tue, 05 Jul 2022</td> <th>  Prob (F-statistic):</th> <td>1.15e-13</td>\n",
       "</tr>\n",
       "<tr>\n",
       "  <th>Time:</th>                 <td>10:21:49</td>     <th>  Log-Likelihood:    </th> <td> -226.15</td>\n",
       "</tr>\n",
       "<tr>\n",
       "  <th>No. Observations:</th>      <td>    36</td>      <th>  AIC:               </th> <td>   458.3</td>\n",
       "</tr>\n",
       "<tr>\n",
       "  <th>Df Residuals:</th>          <td>    33</td>      <th>  BIC:               </th> <td>   463.0</td>\n",
       "</tr>\n",
       "<tr>\n",
       "  <th>Df Model:</th>              <td>     2</td>      <th>                     </th>     <td> </td>   \n",
       "</tr>\n",
       "<tr>\n",
       "  <th>Covariance Type:</th>      <td>nonrobust</td>    <th>                     </th>     <td> </td>   \n",
       "</tr>\n",
       "</table>\n",
       "<table class=\"simpletable\">\n",
       "<tr>\n",
       "      <td></td>         <th>coef</th>     <th>std err</th>      <th>t</th>      <th>P>|t|</th>  <th>[0.025</th>    <th>0.975]</th>  \n",
       "</tr>\n",
       "<tr>\n",
       "  <th>Intercept</th> <td>  -86.2107</td> <td>   98.682</td> <td>   -0.874</td> <td> 0.389</td> <td> -286.980</td> <td>  114.559</td>\n",
       "</tr>\n",
       "<tr>\n",
       "  <th>気温</th>        <td>   47.6485</td> <td>    4.762</td> <td>   10.007</td> <td> 0.000</td> <td>   37.961</td> <td>   57.336</td>\n",
       "</tr>\n",
       "<tr>\n",
       "  <th>雨_ダミー</th>     <td>  178.0815</td> <td>   75.852</td> <td>    2.348</td> <td> 0.025</td> <td>   23.759</td> <td>  332.404</td>\n",
       "</tr>\n",
       "</table>\n",
       "<table class=\"simpletable\">\n",
       "<tr>\n",
       "  <th>Omnibus:</th>       <td> 3.161</td> <th>  Durbin-Watson:     </th> <td>   1.821</td>\n",
       "</tr>\n",
       "<tr>\n",
       "  <th>Prob(Omnibus):</th> <td> 0.206</td> <th>  Jarque-Bera (JB):  </th> <td>   1.483</td>\n",
       "</tr>\n",
       "<tr>\n",
       "  <th>Skew:</th>          <td> 0.031</td> <th>  Prob(JB):          </th> <td>   0.476</td>\n",
       "</tr>\n",
       "<tr>\n",
       "  <th>Kurtosis:</th>      <td> 2.008</td> <th>  Cond. No.          </th> <td>    94.6</td>\n",
       "</tr>\n",
       "</table><br/><br/>Warnings:<br/>[1] Standard Errors assume that the covariance matrix of the errors is correctly specified."
      ],
      "text/plain": [
       "<class 'statsmodels.iolib.summary.Summary'>\n",
       "\"\"\"\n",
       "                            OLS Regression Results                            \n",
       "==============================================================================\n",
       "Dep. Variable:                     売上   R-squared:                       0.836\n",
       "Model:                            OLS   Adj. R-squared:                  0.826\n",
       "Method:                 Least Squares   F-statistic:                     83.88\n",
       "Date:                Tue, 05 Jul 2022   Prob (F-statistic):           1.15e-13\n",
       "Time:                        10:21:49   Log-Likelihood:                -226.15\n",
       "No. Observations:                  36   AIC:                             458.3\n",
       "Df Residuals:                      33   BIC:                             463.0\n",
       "Df Model:                           2                                         \n",
       "Covariance Type:            nonrobust                                         \n",
       "==============================================================================\n",
       "                 coef    std err          t      P>|t|      [0.025      0.975]\n",
       "------------------------------------------------------------------------------\n",
       "Intercept    -86.2107     98.682     -0.874      0.389    -286.980     114.559\n",
       "気温            47.6485      4.762     10.007      0.000      37.961      57.336\n",
       "雨_ダミー        178.0815     75.852      2.348      0.025      23.759     332.404\n",
       "==============================================================================\n",
       "Omnibus:                        3.161   Durbin-Watson:                   1.821\n",
       "Prob(Omnibus):                  0.206   Jarque-Bera (JB):                1.483\n",
       "Skew:                           0.031   Prob(JB):                        0.476\n",
       "Kurtosis:                       2.008   Cond. No.                         94.6\n",
       "==============================================================================\n",
       "\n",
       "Warnings:\n",
       "[1] Standard Errors assume that the covariance matrix of the errors is correctly specified.\n",
       "\"\"\""
      ]
     },
     "execution_count": 232,
     "metadata": {},
     "output_type": "execute_result"
    }
   ],
   "source": [
    "#Formula APIを使う方法\n",
    "model = smf.ols(data=df_sales, formula = \"売上 ~ 気温 + 雨_ダミー + 1\")\n",
    "\n",
    "result = model.fit()\n",
    "result.summary()\n",
    "\n",
    "#result = model.fit_regularized(L1_wt=1,alpha=0.001)\n",
    "#result.params"
   ]
  },
  {
   "cell_type": "code",
   "execution_count": 230,
   "metadata": {},
   "outputs": [
    {
     "data": {
      "text/plain": [
       "0    669.495935\n",
       "1    793.861073\n",
       "2    360.761763\n",
       "3    860.018069\n",
       "4    880.634831\n",
       "dtype: float64"
      ]
     },
     "execution_count": 230,
     "metadata": {},
     "output_type": "execute_result"
    }
   ],
   "source": [
    "#予測\n",
    "df_sales_pred = pd.read_csv(\"sales_sample_pred.csv\")\n",
    "result.predict(df_sales_pred)"
   ]
  },
  {
   "cell_type": "code",
   "execution_count": 233,
   "metadata": {},
   "outputs": [
    {
     "data": {
      "text/plain": [
       "[<matplotlib.lines.Line2D at 0x7ff1a922c550>]"
      ]
     },
     "execution_count": 233,
     "metadata": {},
     "output_type": "execute_result"
    },
    {
     "data": {
      "image/png": "[encoded data removed]",
      "text/plain": [
       "<Figure size 720x576 with 1 Axes>"
      ]
     },
     "metadata": {},
     "output_type": "display_data"
    }
   ],
   "source": [
    "#グラフ作成\n",
    "sns.set(font=\"Hiragino Maru Gothic Pro\",context=\"notebook\")\n",
    "plt.figure(figsize=(10,8))\n",
    "\n",
    "df_sales_sorted = df_sales.sort_values(\"気温\")\n",
    "\n",
    "df_sales_sorted_0 = df_sales_sorted[df_sales_sorted[\"雨_ダミー\"] == 0]\n",
    "df_sales_sorted_1 = df_sales_sorted[df_sales_sorted[\"雨_ダミー\"] == 1]\n",
    "\n",
    "plt.plot(df_sales_sorted_0[\"気温\"],df_sales_sorted_0[\"売上\"],\"o\",color=\"b\")\n",
    "plt.plot(df_sales_sorted_0[\"気温\"],result.predict(df_sales_sorted_0[[\"気温\",\"雨_ダミー\"]]),\"*-\",color=\"b\")\n",
    "\n",
    "plt.plot(df_sales_sorted_1[\"気温\"],df_sales_sorted_1[\"売上\"],\"o\",color=\"r\")\n",
    "plt.plot(df_sales_sorted_1[\"気温\"],result.predict(df_sales_sorted_1[[\"気温\",\"雨_ダミー\"]]),\"*-\",color=\"r\")\n"
   ]
  },
  {
   "cell_type": "code",
   "execution_count": null,
   "metadata": {},
   "outputs": [],
   "source": []
  },
  {
   "cell_type": "code",
   "execution_count": null,
   "metadata": {},
   "outputs": [],
   "source": []
  },
  {
   "cell_type": "code",
   "execution_count": null,
   "metadata": {},
   "outputs": [],
   "source": []
  },
  {
   "cell_type": "code",
   "execution_count": null,
   "metadata": {},
   "outputs": [],
   "source": []
  },
  {
   "cell_type": "code",
   "execution_count": null,
   "metadata": {},
   "outputs": [],
   "source": []
  },
  {
   "cell_type": "code",
   "execution_count": null,
   "metadata": {},
   "outputs": [],
   "source": []
  },
  {
   "cell_type": "markdown",
   "metadata": {},
   "source": [
    "# ロジスティック回帰分析"
   ]
  },
  {
   "cell_type": "code",
   "execution_count": 65,
   "metadata": {},
   "outputs": [],
   "source": [
    "#CSV読み込み\n",
    "df_user = pd.read_csv(\"user_sample.csv\")"
   ]
  },
  {
   "cell_type": "code",
   "execution_count": 62,
   "metadata": {},
   "outputs": [
    {
     "name": "stderr",
     "output_type": "stream",
     "text": [
      "/Users/t.nishimaki/opt/anaconda3/lib/python3.7/site-packages/statsmodels/tsa/tsatools.py:117: FutureWarning: In a future version of pandas all arguments of concat except for the argument 'objs' will be keyword-only\n",
      "  x = pd.concat(x[::order], 1)\n"
     ]
    },
    {
     "data": {
      "text/html": [
       "<table class=\"simpletable\">\n",
       "<caption>Logit Regression Results</caption>\n",
       "<tr>\n",
       "  <th>Dep. Variable:</th>          <td>登録</td>        <th>  No. Observations:  </th>  <td>    40</td> \n",
       "</tr>\n",
       "<tr>\n",
       "  <th>Model:</th>                 <td>Logit</td>      <th>  Df Residuals:      </th>  <td>    36</td> \n",
       "</tr>\n",
       "<tr>\n",
       "  <th>Method:</th>                 <td>MLE</td>       <th>  Df Model:          </th>  <td>     3</td> \n",
       "</tr>\n",
       "<tr>\n",
       "  <th>Date:</th>            <td>Fri, 01 Jul 2022</td> <th>  Pseudo R-squ.:     </th>  <td>0.2588</td> \n",
       "</tr>\n",
       "<tr>\n",
       "  <th>Time:</th>                <td>10:22:57</td>     <th>  Log-Likelihood:    </th> <td> -19.615</td>\n",
       "</tr>\n",
       "<tr>\n",
       "  <th>converged:</th>             <td>True</td>       <th>  LL-Null:           </th> <td> -26.463</td>\n",
       "</tr>\n",
       "<tr>\n",
       "  <th>Covariance Type:</th>     <td>nonrobust</td>    <th>  LLR p-value:       </th> <td>0.003350</td>\n",
       "</tr>\n",
       "</table>\n",
       "<table class=\"simpletable\">\n",
       "<tr>\n",
       "    <td></td>       <th>coef</th>     <th>std err</th>      <th>z</th>      <th>P>|z|</th>  <th>[0.025</th>    <th>0.975]</th>  \n",
       "</tr>\n",
       "<tr>\n",
       "  <th>const</th> <td>   -4.2982</td> <td>    1.555</td> <td>   -2.764</td> <td> 0.006</td> <td>   -7.346</td> <td>   -1.250</td>\n",
       "</tr>\n",
       "<tr>\n",
       "  <th>性別</th>    <td>    0.5251</td> <td>    0.842</td> <td>    0.624</td> <td> 0.533</td> <td>   -1.124</td> <td>    2.174</td>\n",
       "</tr>\n",
       "<tr>\n",
       "  <th>学生</th>    <td>    2.0147</td> <td>    0.841</td> <td>    2.396</td> <td> 0.017</td> <td>    0.367</td> <td>    3.663</td>\n",
       "</tr>\n",
       "<tr>\n",
       "  <th>滞在時間</th>  <td>    0.0390</td> <td>    0.019</td> <td>    2.087</td> <td> 0.037</td> <td>    0.002</td> <td>    0.076</td>\n",
       "</tr>\n",
       "</table>"
      ],
      "text/plain": [
       "<class 'statsmodels.iolib.summary.Summary'>\n",
       "\"\"\"\n",
       "                           Logit Regression Results                           \n",
       "==============================================================================\n",
       "Dep. Variable:                     登録   No. Observations:                   40\n",
       "Model:                          Logit   Df Residuals:                       36\n",
       "Method:                           MLE   Df Model:                            3\n",
       "Date:                Fri, 01 Jul 2022   Pseudo R-squ.:                  0.2588\n",
       "Time:                        10:22:57   Log-Likelihood:                -19.615\n",
       "converged:                       True   LL-Null:                       -26.463\n",
       "Covariance Type:            nonrobust   LLR p-value:                  0.003350\n",
       "==============================================================================\n",
       "                 coef    std err          z      P>|z|      [0.025      0.975]\n",
       "------------------------------------------------------------------------------\n",
       "const         -4.2982      1.555     -2.764      0.006      -7.346      -1.250\n",
       "性別             0.5251      0.842      0.624      0.533      -1.124       2.174\n",
       "学生             2.0147      0.841      2.396      0.017       0.367       3.663\n",
       "滞在時間           0.0390      0.019      2.087      0.037       0.002       0.076\n",
       "==============================================================================\n",
       "\"\"\""
      ]
     },
     "execution_count": 62,
     "metadata": {},
     "output_type": "execute_result"
    }
   ],
   "source": [
    "X = df_user[[\"性別\",\"学生\",\"滞在時間\"]]\n",
    "y = df_user[\"登録\"]\n",
    "\n",
    "model = sm.Logit(y, sm.add_constant(X))\n",
    "result = model.fit(disp=0)\n",
    "result.summary()"
   ]
  },
  {
   "cell_type": "code",
   "execution_count": 67,
   "metadata": {},
   "outputs": [
    {
     "data": {
      "text/html": [
       "<table class=\"simpletable\">\n",
       "<caption>Generalized Linear Model Regression Results</caption>\n",
       "<tr>\n",
       "  <th>Dep. Variable:</th>          <td>登録</td>        <th>  No. Observations:  </th>  <td>    40</td> \n",
       "</tr>\n",
       "<tr>\n",
       "  <th>Model:</th>                  <td>GLM</td>       <th>  Df Residuals:      </th>  <td>    36</td> \n",
       "</tr>\n",
       "<tr>\n",
       "  <th>Model Family:</th>        <td>Binomial</td>     <th>  Df Model:          </th>  <td>     3</td> \n",
       "</tr>\n",
       "<tr>\n",
       "  <th>Link Function:</th>         <td>logit</td>      <th>  Scale:             </th> <td>  1.0000</td>\n",
       "</tr>\n",
       "<tr>\n",
       "  <th>Method:</th>                <td>IRLS</td>       <th>  Log-Likelihood:    </th> <td> -19.615</td>\n",
       "</tr>\n",
       "<tr>\n",
       "  <th>Date:</th>            <td>Fri, 01 Jul 2022</td> <th>  Deviance:          </th> <td>  39.229</td>\n",
       "</tr>\n",
       "<tr>\n",
       "  <th>Time:</th>                <td>10:31:30</td>     <th>  Pearson chi2:      </th>  <td>  35.8</td> \n",
       "</tr>\n",
       "<tr>\n",
       "  <th>No. Iterations:</th>          <td>5</td>        <th>                     </th>     <td> </td>   \n",
       "</tr>\n",
       "<tr>\n",
       "  <th>Covariance Type:</th>     <td>nonrobust</td>    <th>                     </th>     <td> </td>   \n",
       "</tr>\n",
       "</table>\n",
       "<table class=\"simpletable\">\n",
       "<tr>\n",
       "      <td></td>         <th>coef</th>     <th>std err</th>      <th>z</th>      <th>P>|z|</th>  <th>[0.025</th>    <th>0.975]</th>  \n",
       "</tr>\n",
       "<tr>\n",
       "  <th>Intercept</th> <td>   -4.2982</td> <td>    1.555</td> <td>   -2.764</td> <td> 0.006</td> <td>   -7.346</td> <td>   -1.250</td>\n",
       "</tr>\n",
       "<tr>\n",
       "  <th>性別</th>        <td>    0.5251</td> <td>    0.842</td> <td>    0.624</td> <td> 0.533</td> <td>   -1.124</td> <td>    2.174</td>\n",
       "</tr>\n",
       "<tr>\n",
       "  <th>学生</th>        <td>    2.0147</td> <td>    0.841</td> <td>    2.396</td> <td> 0.017</td> <td>    0.367</td> <td>    3.663</td>\n",
       "</tr>\n",
       "<tr>\n",
       "  <th>滞在時間</th>      <td>    0.0390</td> <td>    0.019</td> <td>    2.087</td> <td> 0.037</td> <td>    0.002</td> <td>    0.076</td>\n",
       "</tr>\n",
       "</table>"
      ],
      "text/plain": [
       "<class 'statsmodels.iolib.summary.Summary'>\n",
       "\"\"\"\n",
       "                 Generalized Linear Model Regression Results                  \n",
       "==============================================================================\n",
       "Dep. Variable:                     登録   No. Observations:                   40\n",
       "Model:                            GLM   Df Residuals:                       36\n",
       "Model Family:                Binomial   Df Model:                            3\n",
       "Link Function:                  logit   Scale:                          1.0000\n",
       "Method:                          IRLS   Log-Likelihood:                -19.615\n",
       "Date:                Fri, 01 Jul 2022   Deviance:                       39.229\n",
       "Time:                        10:31:30   Pearson chi2:                     35.8\n",
       "No. Iterations:                     5                                         \n",
       "Covariance Type:            nonrobust                                         \n",
       "==============================================================================\n",
       "                 coef    std err          z      P>|z|      [0.025      0.975]\n",
       "------------------------------------------------------------------------------\n",
       "Intercept     -4.2982      1.555     -2.764      0.006      -7.346      -1.250\n",
       "性別             0.5251      0.842      0.624      0.533      -1.124       2.174\n",
       "学生             2.0147      0.841      2.396      0.017       0.367       3.663\n",
       "滞在時間           0.0390      0.019      2.087      0.037       0.002       0.076\n",
       "==============================================================================\n",
       "\"\"\""
      ]
     },
     "execution_count": 67,
     "metadata": {},
     "output_type": "execute_result"
    }
   ],
   "source": [
    "#Formula APIを使う方法\n",
    "model = smf.glm(data=df_user, formula = \"登録 ~ 性別 + 学生 + 滞在時間 + 1\" ,family = sm.families.Binomial())\n",
    "\n",
    "result = model.fit()\n",
    "result.summary()\n"
   ]
  },
  {
   "cell_type": "code",
   "execution_count": 69,
   "metadata": {},
   "outputs": [
    {
     "data": {
      "text/plain": [
       "0    0.581287\n",
       "1    0.235077\n",
       "2    0.045979\n",
       "3    0.786263\n",
       "4    0.604531\n",
       "5    0.065309\n",
       "6    0.382669\n",
       "7    0.782778\n",
       "8    0.434141\n",
       "9    0.571771\n",
       "dtype: float64"
      ]
     },
     "execution_count": 69,
     "metadata": {},
     "output_type": "execute_result"
    }
   ],
   "source": [
    "df_user_pred = pd.read_csv(\"user_sample_pred.csv\")\n",
    "result.predict(df_user_pred)"
   ]
  },
  {
   "cell_type": "markdown",
   "metadata": {},
   "source": [
    "# ポアソン回帰分析"
   ]
  },
  {
   "cell_type": "code",
   "execution_count": 234,
   "metadata": {},
   "outputs": [],
   "source": [
    "#CSV読み込み\n",
    "df_contract = pd.read_csv(\"contract_sample.csv\")"
   ]
  },
  {
   "cell_type": "code",
   "execution_count": 89,
   "metadata": {},
   "outputs": [
    {
     "data": {
      "text/html": [
       "<table class=\"simpletable\">\n",
       "<caption>Generalized Linear Model Regression Results</caption>\n",
       "<tr>\n",
       "  <th>Dep. Variable:</th>          <td>成約数</td>       <th>  No. Observations:  </th>  <td>    52</td> \n",
       "</tr>\n",
       "<tr>\n",
       "  <th>Model:</th>                  <td>GLM</td>       <th>  Df Residuals:      </th>  <td>    50</td> \n",
       "</tr>\n",
       "<tr>\n",
       "  <th>Model Family:</th>         <td>Poisson</td>     <th>  Df Model:          </th>  <td>     1</td> \n",
       "</tr>\n",
       "<tr>\n",
       "  <th>Link Function:</th>          <td>log</td>       <th>  Scale:             </th> <td>  1.0000</td>\n",
       "</tr>\n",
       "<tr>\n",
       "  <th>Method:</th>                <td>IRLS</td>       <th>  Log-Likelihood:    </th> <td> -65.907</td>\n",
       "</tr>\n",
       "<tr>\n",
       "  <th>Date:</th>            <td>Fri, 01 Jul 2022</td> <th>  Deviance:          </th> <td>  44.273</td>\n",
       "</tr>\n",
       "<tr>\n",
       "  <th>Time:</th>                <td>10:42:02</td>     <th>  Pearson chi2:      </th>  <td>  35.1</td> \n",
       "</tr>\n",
       "<tr>\n",
       "  <th>No. Iterations:</th>          <td>5</td>        <th>                     </th>     <td> </td>   \n",
       "</tr>\n",
       "<tr>\n",
       "  <th>Covariance Type:</th>     <td>nonrobust</td>    <th>                     </th>     <td> </td>   \n",
       "</tr>\n",
       "</table>\n",
       "<table class=\"simpletable\">\n",
       "<tr>\n",
       "    <td></td>       <th>coef</th>     <th>std err</th>      <th>z</th>      <th>P>|z|</th>  <th>[0.025</th>    <th>0.975]</th>  \n",
       "</tr>\n",
       "<tr>\n",
       "  <th>訪問回数</th>  <td>   -0.0059</td> <td>    0.004</td> <td>   -1.319</td> <td> 0.187</td> <td>   -0.015</td> <td>    0.003</td>\n",
       "</tr>\n",
       "<tr>\n",
       "  <th>メール送信</th> <td>    1.0778</td> <td>    0.250</td> <td>    4.310</td> <td> 0.000</td> <td>    0.588</td> <td>    1.568</td>\n",
       "</tr>\n",
       "</table>"
      ],
      "text/plain": [
       "<class 'statsmodels.iolib.summary.Summary'>\n",
       "\"\"\"\n",
       "                 Generalized Linear Model Regression Results                  \n",
       "==============================================================================\n",
       "Dep. Variable:                    成約数   No. Observations:                   52\n",
       "Model:                            GLM   Df Residuals:                       50\n",
       "Model Family:                 Poisson   Df Model:                            1\n",
       "Link Function:                    log   Scale:                          1.0000\n",
       "Method:                          IRLS   Log-Likelihood:                -65.907\n",
       "Date:                Fri, 01 Jul 2022   Deviance:                       44.273\n",
       "Time:                        10:42:02   Pearson chi2:                     35.1\n",
       "No. Iterations:                     5                                         \n",
       "Covariance Type:            nonrobust                                         \n",
       "==============================================================================\n",
       "                 coef    std err          z      P>|z|      [0.025      0.975]\n",
       "------------------------------------------------------------------------------\n",
       "訪問回数          -0.0059      0.004     -1.319      0.187      -0.015       0.003\n",
       "メール送信          1.0778      0.250      4.310      0.000       0.588       1.568\n",
       "==============================================================================\n",
       "\"\"\""
      ]
     },
     "execution_count": 89,
     "metadata": {},
     "output_type": "execute_result"
    }
   ],
   "source": [
    "#Formula APIを使わない方法\n",
    "X = df_contract[[\"訪問回数\",\"メール送信\"]]\n",
    "y = df_contract[\"成約数\"]\n",
    "\n",
    "model = sm.GLM(y, X, family=sm.families.Poisson())\n",
    "results = model.fit()\n",
    "results.summary()"
   ]
  },
  {
   "cell_type": "code",
   "execution_count": 235,
   "metadata": {},
   "outputs": [
    {
     "data": {
      "text/html": [
       "<table class=\"simpletable\">\n",
       "<caption>Generalized Linear Model Regression Results</caption>\n",
       "<tr>\n",
       "  <th>Dep. Variable:</th>          <td>成約数</td>       <th>  No. Observations:  </th>  <td>    52</td> \n",
       "</tr>\n",
       "<tr>\n",
       "  <th>Model:</th>                  <td>GLM</td>       <th>  Df Residuals:      </th>  <td>    49</td> \n",
       "</tr>\n",
       "<tr>\n",
       "  <th>Model Family:</th>         <td>Poisson</td>     <th>  Df Model:          </th>  <td>     2</td> \n",
       "</tr>\n",
       "<tr>\n",
       "  <th>Link Function:</th>          <td>log</td>       <th>  Scale:             </th> <td>  1.0000</td>\n",
       "</tr>\n",
       "<tr>\n",
       "  <th>Method:</th>                <td>IRLS</td>       <th>  Log-Likelihood:    </th> <td> -62.097</td>\n",
       "</tr>\n",
       "<tr>\n",
       "  <th>Date:</th>            <td>Thu, 14 Jul 2022</td> <th>  Deviance:          </th> <td>  36.652</td>\n",
       "</tr>\n",
       "<tr>\n",
       "  <th>Time:</th>                <td>09:42:21</td>     <th>  Pearson chi2:      </th>  <td>  31.0</td> \n",
       "</tr>\n",
       "<tr>\n",
       "  <th>No. Iterations:</th>          <td>5</td>        <th>                     </th>     <td> </td>   \n",
       "</tr>\n",
       "<tr>\n",
       "  <th>Covariance Type:</th>     <td>nonrobust</td>    <th>                     </th>     <td> </td>   \n",
       "</tr>\n",
       "</table>\n",
       "<table class=\"simpletable\">\n",
       "<tr>\n",
       "      <td></td>         <th>coef</th>     <th>std err</th>      <th>z</th>      <th>P>|z|</th>  <th>[0.025</th>    <th>0.975]</th>  \n",
       "</tr>\n",
       "<tr>\n",
       "  <th>Intercept</th> <td>   -1.5568</td> <td>    0.581</td> <td>   -2.679</td> <td> 0.007</td> <td>   -2.696</td> <td>   -0.418</td>\n",
       "</tr>\n",
       "<tr>\n",
       "  <th>訪問回数</th>      <td>    0.0256</td> <td>    0.012</td> <td>    2.067</td> <td> 0.039</td> <td>    0.001</td> <td>    0.050</td>\n",
       "</tr>\n",
       "<tr>\n",
       "  <th>メール送信</th>     <td>    1.1671</td> <td>    0.276</td> <td>    4.228</td> <td> 0.000</td> <td>    0.626</td> <td>    1.708</td>\n",
       "</tr>\n",
       "</table>"
      ],
      "text/plain": [
       "<class 'statsmodels.iolib.summary.Summary'>\n",
       "\"\"\"\n",
       "                 Generalized Linear Model Regression Results                  \n",
       "==============================================================================\n",
       "Dep. Variable:                    成約数   No. Observations:                   52\n",
       "Model:                            GLM   Df Residuals:                       49\n",
       "Model Family:                 Poisson   Df Model:                            2\n",
       "Link Function:                    log   Scale:                          1.0000\n",
       "Method:                          IRLS   Log-Likelihood:                -62.097\n",
       "Date:                Thu, 14 Jul 2022   Deviance:                       36.652\n",
       "Time:                        09:42:21   Pearson chi2:                     31.0\n",
       "No. Iterations:                     5                                         \n",
       "Covariance Type:            nonrobust                                         \n",
       "==============================================================================\n",
       "                 coef    std err          z      P>|z|      [0.025      0.975]\n",
       "------------------------------------------------------------------------------\n",
       "Intercept     -1.5568      0.581     -2.679      0.007      -2.696      -0.418\n",
       "訪問回数           0.0256      0.012      2.067      0.039       0.001       0.050\n",
       "メール送信          1.1671      0.276      4.228      0.000       0.626       1.708\n",
       "==============================================================================\n",
       "\"\"\""
      ]
     },
     "execution_count": 235,
     "metadata": {},
     "output_type": "execute_result"
    }
   ],
   "source": [
    "#Formula APIを使う方法\n",
    "model = smf.glm(data=df_contract, formula = \"成約数 ~ 訪問回数 + メール送信 + 1\", family = sm.families.Poisson())\n",
    "\n",
    "result = model.fit()\n",
    "result.summary()"
   ]
  },
  {
   "cell_type": "code",
   "execution_count": 239,
   "metadata": {},
   "outputs": [
    {
     "data": {
      "text/plain": [
       "[<matplotlib.lines.Line2D at 0x7ff1aa4c8090>]"
      ]
     },
     "execution_count": 239,
     "metadata": {},
     "output_type": "execute_result"
    },
    {
     "data": {
      "image/png": "[encoded data removed]",
      "text/plain": [
       "<Figure size 720x576 with 1 Axes>"
      ]
     },
     "metadata": {},
     "output_type": "display_data"
    }
   ],
   "source": [
    "#フィット具合の確認\n",
    "sns.set(font=\"Hiragino Maru Gothic Pro\",context=\"notebook\")\n",
    "plt.figure(figsize=(10,8))\n",
    "\n",
    "df_contract_sorted = df_contract.sort_values(\"訪問回数\")\n",
    "\n",
    "df_contract_sorted_0 = df_contract_sorted[df_contract_sorted[\"メール送信\"] == 0]\n",
    "df_contract_sorted_1 = df_contract_sorted[df_contract_sorted[\"メール送信\"] == 1]\n",
    "\n",
    "plt.plot(df_contract_sorted_0[\"訪問回数\"],df_contract_sorted_0[\"成約数\"],\"o\",color=\"b\")\n",
    "plt.plot(df_contract_sorted_0[\"訪問回数\"],result.predict(df_contract_sorted_0),\"*-\",color=\"b\")\n",
    "\n",
    "plt.plot(df_contract_sorted_1[\"訪問回数\"],df_contract_sorted_1[\"成約数\"],\"o\",color=\"r\")\n",
    "plt.plot(df_contract_sorted_1[\"訪問回数\"],result.predict(df_contract_sorted_1),\"*-\",color=\"r\")"
   ]
  },
  {
   "cell_type": "code",
   "execution_count": null,
   "metadata": {},
   "outputs": [],
   "source": []
  },
  {
   "cell_type": "code",
   "execution_count": null,
   "metadata": {},
   "outputs": [],
   "source": []
  }
 ],
 "metadata": {
  "kernelspec": {
   "display_name": "Python 3",
   "language": "python",
   "name": "python3"
  },
  "language_info": {
   "codemirror_mode": {
    "name": "ipython",
    "version": 3
   },
   "file_extension": ".py",
   "mimetype": "text/x-python",
   "name": "python",
   "nbconvert_exporter": "python",
   "pygments_lexer": "ipython3",
   "version": "3.7.4"
  }
 },
 "nbformat": 4,
 "nbformat_minor": 4
}
