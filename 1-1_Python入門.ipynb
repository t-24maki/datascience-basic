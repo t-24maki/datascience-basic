{
 "cells": [
  {
   "cell_type": "markdown",
   "id": "1a67f9af",
   "metadata": {},
   "source": [
    "# 1. Print文 / コメント"
   ]
  },
  {
   "cell_type": "code",
   "execution_count": 1,
   "id": "aae8dfa8",
   "metadata": {},
   "outputs": [
    {
     "name": "stdout",
     "output_type": "stream",
     "text": [
      "こんにちは\n",
      "hello world\n"
     ]
    }
   ],
   "source": [
    "#「こんにちは」と表示させる処理\n",
    "print(\"こんにちは\")\n",
    "\n",
    "#「hello world」...\n",
    "print(\"hello world\")"
   ]
  },
  {
   "cell_type": "code",
   "execution_count": null,
   "id": "ddf2daca",
   "metadata": {},
   "outputs": [],
   "source": []
  },
  {
   "cell_type": "markdown",
   "id": "69835d1e",
   "metadata": {},
   "source": [
    "# 2. 変数 / データ型"
   ]
  },
  {
   "cell_type": "code",
   "execution_count": 2,
   "id": "8c3d36a8",
   "metadata": {},
   "outputs": [
    {
     "name": "stdout",
     "output_type": "stream",
     "text": [
      "こんにちは\n",
      "こんばんわ\n",
      "こんばんわ\n"
     ]
    }
   ],
   "source": [
    "a = \"こんにちは\"\n",
    "b = \"こんばんわ\"\n",
    "c = 5\n",
    "d = 1.2345\n",
    "print(a)\n",
    "print(b)\n",
    "print(b)"
   ]
  },
  {
   "cell_type": "code",
   "execution_count": null,
   "id": "11ca684e",
   "metadata": {},
   "outputs": [],
   "source": []
  },
  {
   "cell_type": "markdown",
   "id": "48a70588",
   "metadata": {},
   "source": [
    "# 3. 数値型の基本操作"
   ]
  },
  {
   "cell_type": "code",
   "execution_count": 3,
   "id": "6aaa9db1",
   "metadata": {},
   "outputs": [
    {
     "name": "stdout",
     "output_type": "stream",
     "text": [
      "243711203.6187563\n",
      "31060992901.21049\n"
     ]
    }
   ],
   "source": [
    "x = 123.45\n",
    "print(x*(x+1)*(x+2)*(x+3))\n",
    "print(x*(x+1)*(x+2)*(x+3)*(x+4))"
   ]
  },
  {
   "cell_type": "code",
   "execution_count": null,
   "id": "3e41641b",
   "metadata": {},
   "outputs": [],
   "source": []
  },
  {
   "cell_type": "markdown",
   "id": "12928ffb",
   "metadata": {},
   "source": [
    "# 4. 文字列型の基本操作"
   ]
  },
  {
   "cell_type": "code",
   "execution_count": 4,
   "id": "41009f01",
   "metadata": {},
   "outputs": [
    {
     "data": {
      "text/plain": [
       "'I have an apple.I have an apple.I have an apple.'"
      ]
     },
     "execution_count": 4,
     "metadata": {},
     "output_type": "execute_result"
    }
   ],
   "source": [
    "bunsho = \"I have a pen.\"\n",
    "bunsho2 = \"I have an apple.\"\n",
    "\n",
    "bunsho2 * 3"
   ]
  },
  {
   "cell_type": "code",
   "execution_count": null,
   "id": "fcc9cef8",
   "metadata": {},
   "outputs": [],
   "source": []
  },
  {
   "cell_type": "markdown",
   "id": "32f51a00",
   "metadata": {},
   "source": [
    "# 5. if文"
   ]
  },
  {
   "cell_type": "code",
   "execution_count": 5,
   "id": "085223c2",
   "metadata": {},
   "outputs": [
    {
     "name": "stdout",
     "output_type": "stream",
     "text": [
      "条件を満たしません！！！\n"
     ]
    }
   ],
   "source": [
    "a = 19\n",
    "\n",
    "if (a >= 20) | (a % 3 == 0):\n",
    "    print(\"20以上もしくは3の倍数です！！！\")\n",
    "else:\n",
    "    print(\"条件を満たしません！！！\")\n",
    "\n"
   ]
  },
  {
   "cell_type": "code",
   "execution_count": null,
   "id": "f5b93629",
   "metadata": {},
   "outputs": [],
   "source": []
  },
  {
   "cell_type": "markdown",
   "id": "1315cf35",
   "metadata": {},
   "source": [
    "# 6. for文"
   ]
  },
  {
   "cell_type": "code",
   "execution_count": 6,
   "id": "e91597ea",
   "metadata": {},
   "outputs": [
    {
     "name": "stdout",
     "output_type": "stream",
     "text": [
      "0\n",
      "1\n",
      "4\n",
      "9\n",
      "16\n",
      "25\n",
      "36\n",
      "49\n",
      "64\n",
      "81\n"
     ]
    }
   ],
   "source": [
    "for i in range(10):\n",
    "    print(i**2)"
   ]
  },
  {
   "cell_type": "code",
   "execution_count": null,
   "id": "739bd628",
   "metadata": {},
   "outputs": [],
   "source": []
  },
  {
   "cell_type": "markdown",
   "id": "5b60af62",
   "metadata": {},
   "source": [
    "# 7. while文"
   ]
  },
  {
   "cell_type": "code",
   "execution_count": 7,
   "id": "673fd3b3",
   "metadata": {},
   "outputs": [
    {
     "name": "stdout",
     "output_type": "stream",
     "text": [
      "447\n",
      "100128\n"
     ]
    }
   ],
   "source": [
    "number = 0\n",
    "i = 0\n",
    "\n",
    "while number < 100000:\n",
    "    i += 1\n",
    "    number += i\n",
    "\n",
    "print(i)\n",
    "print(number)"
   ]
  },
  {
   "cell_type": "code",
   "execution_count": null,
   "id": "378ef8bd",
   "metadata": {},
   "outputs": [],
   "source": []
  },
  {
   "cell_type": "markdown",
   "id": "3602bc3b",
   "metadata": {},
   "source": [
    "# 8. リスト / タプル / 辞書"
   ]
  },
  {
   "cell_type": "code",
   "execution_count": 8,
   "id": "9b466838",
   "metadata": {},
   "outputs": [
    {
     "name": "stdout",
     "output_type": "stream",
     "text": [
      "入ってない！\n"
     ]
    }
   ],
   "source": [
    "a = [4,6,1,5,3,4,6,8,4,1]\n",
    "\n",
    "if 10 in a:\n",
    "    print(\"入ってる！\")\n",
    "else:\n",
    "    print(\"入ってない！\")"
   ]
  },
  {
   "cell_type": "code",
   "execution_count": 9,
   "id": "05059bb4",
   "metadata": {},
   "outputs": [],
   "source": [
    "a[0] = 100"
   ]
  },
  {
   "cell_type": "code",
   "execution_count": 10,
   "id": "7250934b",
   "metadata": {},
   "outputs": [],
   "source": [
    "fruits_price_dict = {\"apple\":\"りんご\",\"orange\":\"みかん\",\"grape\":\"ぶどう\"}"
   ]
  },
  {
   "cell_type": "code",
   "execution_count": null,
   "id": "11ba8c33",
   "metadata": {},
   "outputs": [],
   "source": []
  },
  {
   "cell_type": "markdown",
   "id": "dd521452",
   "metadata": {},
   "source": [
    "# 9. 関数"
   ]
  },
  {
   "cell_type": "code",
   "execution_count": 11,
   "id": "f49b7c40",
   "metadata": {},
   "outputs": [],
   "source": [
    "def calc(a,b,c):\n",
    "    x = a*b*c\n",
    "    y = a+b+c\n",
    "    return x,y"
   ]
  },
  {
   "cell_type": "code",
   "execution_count": 12,
   "id": "91b996de",
   "metadata": {},
   "outputs": [
    {
     "data": {
      "text/plain": [
       "(42636, 113)"
      ]
     },
     "execution_count": 12,
     "metadata": {},
     "output_type": "execute_result"
    }
   ],
   "source": [
    "calc(34,22,57)"
   ]
  },
  {
   "cell_type": "code",
   "execution_count": null,
   "id": "c59c60bb",
   "metadata": {},
   "outputs": [],
   "source": []
  },
  {
   "cell_type": "markdown",
   "id": "3966807c",
   "metadata": {},
   "source": [
    "# 10. クラス/インスタンス"
   ]
  },
  {
   "cell_type": "code",
   "execution_count": 13,
   "id": "19a3c5c7",
   "metadata": {},
   "outputs": [],
   "source": [
    "class CharaData():\n",
    "    def __init__(self):\n",
    "        self.name = \"\"\n",
    "        self.attack = 0\n",
    "        self.guard = 0\n",
    "        \n",
    "    def power(self):\n",
    "        print(self.attack + self.guard)"
   ]
  },
  {
   "cell_type": "code",
   "execution_count": 14,
   "id": "d02dfb23",
   "metadata": {},
   "outputs": [],
   "source": [
    "taro = CharaData()\n",
    "taro.name = \"太郎\"\n",
    "taro.attack = 5\n",
    "taro.guard = 7"
   ]
  },
  {
   "cell_type": "code",
   "execution_count": 15,
   "id": "a2663223",
   "metadata": {},
   "outputs": [
    {
     "name": "stdout",
     "output_type": "stream",
     "text": [
      "12\n"
     ]
    }
   ],
   "source": [
    "taro.power()"
   ]
  },
  {
   "cell_type": "code",
   "execution_count": 16,
   "id": "3441d165",
   "metadata": {},
   "outputs": [],
   "source": [
    "jiro = CharaData()"
   ]
  },
  {
   "cell_type": "code",
   "execution_count": 17,
   "id": "42dc97ef",
   "metadata": {},
   "outputs": [],
   "source": [
    "jiro.name = \"次郎\"\n",
    "jiro.attack = 6"
   ]
  },
  {
   "cell_type": "code",
   "execution_count": 18,
   "id": "8331423d",
   "metadata": {},
   "outputs": [
    {
     "name": "stdout",
     "output_type": "stream",
     "text": [
      "6\n"
     ]
    }
   ],
   "source": [
    "jiro.power()"
   ]
  },
  {
   "cell_type": "code",
   "execution_count": 19,
   "id": "04c8e9eb",
   "metadata": {},
   "outputs": [
    {
     "data": {
      "text/plain": [
       "{'name': '次郎', 'attack': 6, 'guard': 0}"
      ]
     },
     "execution_count": 19,
     "metadata": {},
     "output_type": "execute_result"
    }
   ],
   "source": [
    "vars(jiro)"
   ]
  },
  {
   "cell_type": "code",
   "execution_count": null,
   "id": "266302fa",
   "metadata": {},
   "outputs": [],
   "source": []
  }
 ],
 "metadata": {
  "kernelspec": {
   "display_name": "Python 3 (ipykernel)",
   "language": "python",
   "name": "python3"
  },
  "language_info": {
   "codemirror_mode": {
    "name": "ipython",
    "version": 3
   },
   "file_extension": ".py",
   "mimetype": "text/x-python",
   "name": "python",
   "nbconvert_exporter": "python",
   "pygments_lexer": "ipython3",
   "version": "3.10.12"
  }
 },
 "nbformat": 4,
 "nbformat_minor": 5
}
